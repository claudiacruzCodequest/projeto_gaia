{
  "nbformat": 4,
  "nbformat_minor": 0,
  "metadata": {
    "colab": {
      "provenance": [],
      "authorship_tag": "ABX9TyObeAfDE7rW3CNL7fBSwIw6",
      "include_colab_link": true
    },
    "kernelspec": {
      "name": "python3",
      "display_name": "Python 3"
    },
    "language_info": {
      "name": "python"
    }
  },
  "cells": [
    {
      "cell_type": "markdown",
      "metadata": {
        "id": "view-in-github",
        "colab_type": "text"
      },
      "source": [
        "<a href=\"https://colab.research.google.com/github/claudiacruzCodequest/projeto_gaia/blob/main/Projeto_Gaia_Chatbot.ipynb\" target=\"_parent\"><img src=\"https://colab.research.google.com/assets/colab-badge.svg\" alt=\"Open In Colab\"/></a>"
      ]
    },
    {
      "cell_type": "markdown",
      "source": [
        "# PROJETO GAIA\n",
        " Chatbot para WhatsApp para Auxílio a Pessoas em Situação de Emergências e Desastres\n"
      ],
      "metadata": {
        "id": "1Ap0WUARR2_i"
      }
    },
    {
      "cell_type": "markdown",
      "source": [
        "Instalando o SDK do Google"
      ],
      "metadata": {
        "id": "gDCYcF_3Qp1t"
      }
    },
    {
      "cell_type": "code",
      "execution_count": null,
      "metadata": {
        "id": "J2660Pq2Qo8C"
      },
      "outputs": [],
      "source": [
        "!pip install -U -q google.generativeai # Install the Python SDK"
      ]
    },
    {
      "cell_type": "code",
      "source": [
        "#import the python SDK\n",
        "import google.generativeai as genai\n",
        "\n",
        "GOOGLE_API_KEY=(\"COLE SUA API KEY\")\n",
        "genai.configure(api_key=GOOGLE_API_KEY)"
      ],
      "metadata": {
        "id": "D1Ww9WrWReOa"
      },
      "execution_count": 58,
      "outputs": []
    },
    {
      "cell_type": "markdown",
      "source": [
        "Listar os modelos disponíveis\n"
      ],
      "metadata": {
        "id": "a758xiB0RvS9"
      }
    },
    {
      "cell_type": "code",
      "source": [
        "model = genai.GenerativeModel('gemini-1.0-pro')"
      ],
      "metadata": {
        "id": "g6_anFrCFIQr"
      },
      "execution_count": 34,
      "outputs": []
    },
    {
      "cell_type": "markdown",
      "source": [
        "Configurações"
      ],
      "metadata": {
        "id": "6lkmCu29XcDW"
      }
    },
    {
      "cell_type": "code",
      "source": [
        "generation_config = {\n",
        "    \"candidate_account\": 1,\n",
        "    \"temperature\": 0.0,\n",
        "}"
      ],
      "metadata": {
        "id": "DgeNwcDLXiBC"
      },
      "execution_count": null,
      "outputs": []
    },
    {
      "cell_type": "markdown",
      "source": [
        "Segurança"
      ],
      "metadata": {
        "id": "z9SWegdkYPPi"
      }
    },
    {
      "cell_type": "code",
      "source": [
        "safety_settings = {\n",
        "    \"Harassment\" : \"BLOCK_FEW\",\n",
        "    \"Hate\" : \"BLOCK_FEW\",\n",
        "    \"Sexual\" : \"BLOCK_FEW\",\n",
        "    \"Dangerous\" : \"BLOCK_NONE\",\n",
        "}"
      ],
      "metadata": {
        "id": "f0RepUDvYRDz"
      },
      "execution_count": null,
      "outputs": []
    },
    {
      "cell_type": "markdown",
      "source": [
        "Inicializando o Modelo"
      ],
      "metadata": {
        "id": "Qmyrbaa4Bgxi"
      }
    },
    {
      "cell_type": "code",
      "source": [
        "model = genai.GenerativeModel('gemini-1.0-pro')"
      ],
      "metadata": {
        "id": "NJsRbT-sQzeZ"
      },
      "execution_count": 57,
      "outputs": []
    },
    {
      "cell_type": "code",
      "source": [
        "response = model.generate_content(\"Vamos aprender sobre gerenciamento de situações de emergências e desastres. Me dê sugestões.\")\n",
        "print(response.text)\n"
      ],
      "metadata": {
        "colab": {
          "base_uri": "https://localhost:8080/",
          "height": 781
        },
        "id": "dttsTs5RPi8H",
        "outputId": "619b1098-2aa0-4f2c-a763-962771c43398"
      },
      "execution_count": 61,
      "outputs": [
        {
          "output_type": "stream",
          "name": "stdout",
          "text": [
            "**Princípios do Gerenciamento de Emergências**\n",
            "\n",
            "* Reconhecer e identificar riscos\n",
            "* Avaliar vulnerabilidades e capacidades\n",
            "* Desenvolver planos de resposta abrangentes\n",
            "* Comunicar-se efetivamente com o público\n",
            "* Coordenar recursos e resposta\n",
            "* Mitigar os impactos negativos e facilitar a recuperação\n",
            "\n",
            "**Tipos de Emergências e Desastres**\n",
            "\n",
            "* Desastres naturais (ex: terremotos, furacões, inundações)\n",
            "* Emergências tecnológicas (ex: vazamentos químicos, explosões industriais)\n",
            "* Emergências humanas (ex: incêndios, tiroteios em massa, terrorismo)\n",
            "* Emergências médicas (ex: epidemias, desastres em massa)\n",
            "\n",
            "**Planos de Resposta a Emergências**\n",
            "\n",
            "* Identificar papéis e responsabilidades\n",
            "* Estabelecer protocolos de comunicação\n",
            "* Desenvolver procedimentos de evacuação e abrigo\n",
            "* Coordenar a assistência médica e o apoio\n",
            "* Gerenciar recursos e suprimentos\n",
            "\n",
            "**Comunicação em Emergências**\n",
            "\n",
            "* Estabelecer um sistema de alerta e notificação\n",
            "* Fornecer informações claras e precisas ao público\n",
            "* Monitorar mídias sociais e outras formas de comunicação\n",
            "* Desmentir rumores e informações falsas\n",
            "\n",
            "**Coordenação e Gerenciamento de Recursos**\n",
            "\n",
            "* Coordenar com agências federais, estaduais e locais\n",
            "* Mobilizar recursos e suprimentos\n",
            "* Estabelecer centros de operações de emergência\n",
            "* Gerenciar voluntários e organizações de resposta\n",
            "\n",
            "**Mitigação e Recuperação**\n",
            "\n",
            "* Implementar medidas para reduzir riscos e vulnerabilidades\n",
            "* Facilitar a recuperação pós-desastre\n",
            "* Fornecer assistência e apoio às comunidades afetadas\n",
            "* Avaliar a resposta e identificar áreas para melhoria\n"
          ]
        }
      ]
    },
    {
      "cell_type": "code",
      "source": [
        "response = model.generate_content(\"Vamos criar um chatbot chamado Gaia, um assistente virtual via whatsapp para auxiliar pessoas em situações de emergências e desastres. Me dê sugestões.\")\n",
        "print(response.text)\n"
      ],
      "metadata": {
        "colab": {
          "base_uri": "https://localhost:8080/",
          "height": 332
        },
        "outputId": "16e0a659-7ad9-4b29-e5df-41fc6c121e69",
        "id": "OVnQq6yrWnGr"
      },
      "execution_count": 83,
      "outputs": [
        {
          "output_type": "stream",
          "name": "stdout",
          "text": [
            "**Recursos do Chatbot Gaia**\n",
            "\n",
            "* **Alertas em tempo real:** Forneça alertas sobre desastres naturais, emergências e situações de crise.\n",
            "* **Informações de segurança:** Oferecer orientações e instruções sobre como se manter seguro e protegido durante emergências.\n",
            "* **Rastreamento de localização:** Ajude os usuários a compartilhar sua localização com serviços de emergência e entes queridos.\n",
            "* **Conexão com serviços de emergência:** Facilite a comunicação direta com paramédicos, bombeiros e policiais.\n",
            "* **Assistência emocional:** Forneça apoio emocional e recursos para lidar com o estresse e a ansiedade relacionados a emergências.\n",
            "* **Informações de recursos:** Forneça informações sobre abrigos, centros de evacuação, ajuda alimentar e outros recursos de assistência.\n",
            "* **Verificação de bem-estar:** Verifique o bem-estar dos usuários e conecte-os com ajuda conforme necessário.\n",
            "* **Monitoramento de notícias:** Forneça atualizações e informações de fontes confiáveis sobre situações de emergência em andamento.\n",
            "\n",
            "**Interações do Usuário**\n",
            "\n",
            "* **Comandos de texto:** Os usuários podem interagir com o Gaia enviando mensagens de texto.\n",
            "* **Localização:** O Gaia pode solicitar a localização do usuário para fornecer informações e assistência direcionadas.\n",
            "* **Botões predefinidos:** Os usuários podem selecionar botões predefinidos para enviar informações específicas, como seu status de bem-estar ou uma solicitação de assistência.\n",
            "* **Alertas:** O Gaia pode enviar alertas automáticos para todos os usuários em áreas afetadas por desastres.\n"
          ]
        }
      ]
    },
    {
      "cell_type": "code",
      "source": [
        "chat = model.start_chat(history=[])"
      ],
      "metadata": {
        "id": "mcJYHAw6MQ7U"
      },
      "execution_count": 79,
      "outputs": []
    },
    {
      "cell_type": "code",
      "source": [
        "prompt = input(\"Esperando prompt: \")\n",
        "\n",
        "while prompt != \"obrigado\" and prompt != \"obrigada\":\n",
        "    response = chat.send_message(prompt)\n",
        "    print(\"Resposta: \", response.text, \"\\n\")\n",
        "    prompt = input(\"Esperando prompt: \")"
      ],
      "metadata": {
        "colab": {
          "base_uri": "https://localhost:8080/",
          "height": 853
        },
        "id": "S3Byegplb3sY",
        "outputId": "9f5beb22-28d4-42ac-b151-a1c5ba1a4320"
      },
      "execution_count": 84,
      "outputs": [
        {
          "name": "stdout",
          "output_type": "stream",
          "text": [
            "Esperando prompt: oi\n",
            "Resposta:  Olá! Como posso ajudar? \n",
            "\n",
            "Esperando prompt: estou ansioso por causa de uma chuva forte com raios e ventos\n",
            "Resposta:  Entendo que você esteja ansioso por causa da forte chuva com raios e ventos. Aqui estão algumas dicas para ajudá-lo a se manter seguro e reduzir sua ansiedade:\n",
            "\n",
            "* **Esteja atento aos avisos e previsões meteorológicas:** Monitore as notícias, sites de previsão do tempo e canais de mídia social para obter informações atualizadas sobre a tempestade.\n",
            "* **Procure abrigo em um local seguro:** Em caso de tempestade com raios, procure abrigo em um prédio fechado, como sua casa, local de trabalho ou shopping center. Evite ficar ao ar livre, especialmente em áreas abertas, como campos ou praias.\n",
            "* **Desligue aparelhos eletrônicos:** Desligue computadores, TVs e outros aparelhos eletrônicos para evitar danos causados por raios.\n",
            "* **Evite o contato com água:** Não tome banho, lave a louça ou use equipamentos elétricos durante uma tempestade com raios. A água pode conduzir eletricidade.\n",
            "* **Fique longe de janelas e portas:** Mantenha-se afastado de janelas e portas durante uma tempestade com raios, pois elas podem atrair raios.\n",
            "* **Se estiver ao ar livre, procure abrigo imediatamente:** Se você for pego ao ar livre durante uma tempestade com raios, procure abrigo em um prédio fechado ou em um carro com capota rígida. Se isso não for possível, agache-se em uma área baixa, longe de árvores altas ou objetos metálicos.\n",
            "\n",
            "**Para reduzir a ansiedade:**\n",
            "\n",
            "* **Pratique técnicas de relaxamento:** Pratique técnicas de relaxamento, como respiração profunda ou meditação, para ajudar a acalmar sua mente e reduzir a ansiedade.\n",
            "* **Converse com alguém:** Fale com um amigo, familiar ou terapeuta sobre seus sentimentos. Compartilhar suas preocupações pode ajudar a reduzir a ansiedade.\n",
            "* **Distraia-se:** Envolva-se em atividades que o distraiam da tempestade, como ler, assistir TV ou ouvir música.\n",
            "* **Lembre-se de que a tempestade passará:** Lembre-se de que a tempestade é temporária e que ela passará eventualmente. Concentre-se no presente e tente não se preocupar com o futuro.\n",
            "\n",
            "Se você sentir que sua ansiedade está ficando incontrolável, procure ajuda profissional. Um terapeuta pode ajudá-lo a desenvolver estratégias de enfrentamento saudáveis e fornecer apoio durante esse período estressante. \n",
            "\n",
            "Esperando prompt: Tem algum abrigo perto do Novo Campeche, Florianópolis?\n",
            "Resposta:  **Abrigos próximos ao Novo Campeche, Florianópolis:**\n",
            "\n",
            "* **Escola Básica Municipal Professora Maria Tomázia Coelho:** Rua Desembargador Pedro Silva, 200 - Campeche\n",
            "* **Escola de Educação Básica Professora Maria Salete Piazza:** Rua Desembargador Pedro Silva, 544 - Campeche\n",
            "* **Escola de Educação Básica Professora Maria Júlia de Aguiar Werlang:** Rua Desembargador Pedro Silva, 499 - Campeche\n",
            "* **Centro Comunitário do Novo Campeche:** Rua Vereador Osmar Cunha, 100 - Novo Campeche\n",
            "* **Igreja Batista do Novo Campeche:** Rua José Ferreira da Silva, 125 - Novo Campeche\n",
            "\n",
            "**Outros locais que podem servir como abrigo em caso de emergência:**\n",
            "\n",
            "* **Ginásio de Esportes do Novo Campeche:** Rua Vereador Osmar Cunha, 100 - Novo Campeche\n",
            "* **Biblioteca Pública do Novo Campeche:** Rua Vereador Osmar Cunha, 100 - Novo Campeche\n",
            "* **Supermercados:** Os supermercados geralmente são estruturas resistentes que podem fornecer abrigo temporário.\n",
            "\n",
            "**Recomendações:**\n",
            "\n",
            "* Entre em contato com os abrigos listados acima para confirmar se eles estão abertos e disponíveis como abrigos durante a tempestade.\n",
            "* Chegue ao abrigo o mais cedo possível, pois o espaço pode ser limitado.\n",
            "* Traga suprimentos essenciais, como água, alimentos não perecíveis, remédios e documentos importantes.\n",
            "* Siga as instruções das autoridades locais e dos responsáveis pelo abrigo.\n",
            "\n",
            "**Observação:** Esta lista pode não estar completa e a disponibilidade dos abrigos pode variar dependendo da situação de emergência. É sempre recomendável verificar com as autoridades locais para obter as informações mais atualizadas. \n",
            "\n",
            "Esperando prompt: obrigada\n"
          ]
        }
      ]
    },
    {
      "cell_type": "code",
      "source": [
        "import textwrap\n",
        "from IPython.display import display, Markdown\n",
        "\n",
        "def to_markdown(text):\n",
        "    text = text.replace('•', '  *')\n",
        "    return Markdown(textwrap.indent(text, '> ', predicate=lambda _: True))\n",
        "\n",
        "for message in chat.history:\n",
        "    display(to_markdown(f'**{message.role}**: {message.parts[0].text}'))\n",
        "    print('------------------------')"
      ],
      "metadata": {
        "colab": {
          "base_uri": "https://localhost:8080/",
          "height": 1000
        },
        "id": "0rcaoo3nbPQl",
        "outputId": "30f57242-d485-46f9-84d9-8d4ad950027f"
      },
      "execution_count": 85,
      "outputs": [
        {
          "output_type": "display_data",
          "data": {
            "text/plain": [
              "<IPython.core.display.Markdown object>"
            ],
            "text/markdown": "> **user**: Oi"
          },
          "metadata": {}
        },
        {
          "output_type": "stream",
          "name": "stdout",
          "text": [
            "------------------------\n"
          ]
        },
        {
          "output_type": "display_data",
          "data": {
            "text/plain": [
              "<IPython.core.display.Markdown object>"
            ],
            "text/markdown": "> **model**: Olá! Como posso ajudar?"
          },
          "metadata": {}
        },
        {
          "output_type": "stream",
          "name": "stdout",
          "text": [
            "------------------------\n"
          ]
        },
        {
          "output_type": "display_data",
          "data": {
            "text/plain": [
              "<IPython.core.display.Markdown object>"
            ],
            "text/markdown": "> **user**: inundação"
          },
          "metadata": {}
        },
        {
          "output_type": "stream",
          "name": "stdout",
          "text": [
            "------------------------\n"
          ]
        },
        {
          "output_type": "display_data",
          "data": {
            "text/plain": [
              "<IPython.core.display.Markdown object>"
            ],
            "text/markdown": "> **model**: **Como se preparar para uma inundação:**\n> \n> **Antes de uma inundação:**\n> \n> * **Esteja atento aos avisos e previsões meteorológicas:** Monitore as notícias, sites de previsão do tempo e canais de mídia social para obter informações sobre possíveis enchentes.\n> * **Monte um kit de emergência:** Inclua água potável, alimentos não perecíveis, remédios, um kit de primeiros socorros, lanternas, rádios, pilhas e documentos importantes.\n> * **Procure abrigo em uma área alta:** Identifique um local seguro com uma altitude mais elevada, como um prédio de vários andares ou uma colina, para onde você possa evacuar se necessário.\n> * **Proteja sua casa:** Eleve móveis e itens valiosos para áreas mais altas. Feche todas as janelas e portas e vede-as com sacos de areia ou toalhas.\n> * **Mova veículos para áreas mais altas:** Estacione seus veículos em uma garagem ou em uma área elevada.\n> * **Desligue a eletricidade e o gás:** Desligue a eletricidade e o gás no disjuntor ou válvula principal para evitar riscos de incêndio ou explosão.\n> \n> **Durante uma inundação:**\n> \n> * **Evacue se ordenado:** Siga as instruções das autoridades e evacue para uma área segura imediatamente.\n> * **Procure abrigo:** Se não for possível evacuar, procure abrigo em um local seguro, como um prédio alto ou um terreno elevado.\n> * **Evite águas de enchente:** As águas de enchente podem conter detritos perigosos e estarem contaminadas. Evite andar ou dirigir neles.\n> * **Desligue a eletricidade e o gás:** Se ainda não tiver feito isso, desligue a eletricidade e o gás para evitar riscos.\n> * **Relate danos:** Depois que a inundação passar, entre em contato com sua companhia de seguros para relatar quaisquer danos.\n> \n> **Após uma inundação:**\n> \n> * **Retorne com cuidado:** Não retorne à sua casa até que as autoridades deem autorização.\n> * **Inspecione sua casa:** Verifique se há danos estruturais, elétricos ou de gás. Se houver algum dano, entre em contato com um profissional qualificado para reparos.\n> * **Limpe sua casa:** Remova a água e a lama usando bombas e vassouras. Descarte móveis e pertences danificados.\n> * **Esterilize sua casa:** Use desinfetantes para limpar superfícies e matar germes.\n> * **Procure ajuda profissional:** Se você foi afetado emocional ou fisicamente pela inundação, procure ajuda profissional."
          },
          "metadata": {}
        },
        {
          "output_type": "stream",
          "name": "stdout",
          "text": [
            "------------------------\n"
          ]
        },
        {
          "output_type": "display_data",
          "data": {
            "text/plain": [
              "<IPython.core.display.Markdown object>"
            ],
            "text/markdown": "> **user**: abrigo seguro"
          },
          "metadata": {}
        },
        {
          "output_type": "stream",
          "name": "stdout",
          "text": [
            "------------------------\n"
          ]
        },
        {
          "output_type": "display_data",
          "data": {
            "text/plain": [
              "<IPython.core.display.Markdown object>"
            ],
            "text/markdown": "> **model**: **Locais seguros para se abrigar durante uma inundação:**\n> \n> * **Prédios altos:** Edifícios com vários andares, como apartamentos, hotéis ou escritórios, oferecem um local seguro acima do nível da água.\n> * **Terrenos elevados:** Colinas, elevações ou outras áreas mais altas são locais seguros para se abrigar, pois é menos provável que sejam afetadas pelas enchentes.\n> * **Estádios e ginásios:** Esses edifícios geralmente são grandes e possuem vários andares, tornando-os refúgios seguros.\n> * **Escolas:** As escolas costumam ser usadas como centros de evacuação durante emergências, pois são grandes e possuem várias salas que podem ser usadas para abrigo.\n> * **Bibliotecas:** As bibliotecas também podem ser usadas como centros de evacuação, pois são edifícios resistentes e geralmente localizados em áreas elevadas.\n> \n> **Ao escolher um local seguro, considere os seguintes fatores:**\n> \n> * A altitude do local em relação ao nível previsto da água da enchente\n> * A estabilidade estrutural do edifício\n> * A disponibilidade de suprimentos essenciais, como água, alimentos e medicamentos\n> * A capacidade de acomodar um número razoável de pessoas\n> * A acessibilidade do local, especialmente para pessoas com deficiência ou necessidades especiais\n> \n> Se você não conseguir chegar a um local seguro, tente encontrar o ponto mais alto possível em sua casa ou empresa. Suba para o andar mais alto ou para o telhado, se necessário.\n> \n> **É importante seguir as instruções das autoridades locais e evacuar para uma área segura se ordenado.**"
          },
          "metadata": {}
        },
        {
          "output_type": "stream",
          "name": "stdout",
          "text": [
            "------------------------\n"
          ]
        },
        {
          "output_type": "display_data",
          "data": {
            "text/plain": [
              "<IPython.core.display.Markdown object>"
            ],
            "text/markdown": "> **user**: oi"
          },
          "metadata": {}
        },
        {
          "output_type": "stream",
          "name": "stdout",
          "text": [
            "------------------------\n"
          ]
        },
        {
          "output_type": "display_data",
          "data": {
            "text/plain": [
              "<IPython.core.display.Markdown object>"
            ],
            "text/markdown": "> **model**: Olá! Como posso ajudar?"
          },
          "metadata": {}
        },
        {
          "output_type": "stream",
          "name": "stdout",
          "text": [
            "------------------------\n"
          ]
        },
        {
          "output_type": "display_data",
          "data": {
            "text/plain": [
              "<IPython.core.display.Markdown object>"
            ],
            "text/markdown": "> **user**: estou ansioso por causa de uma chuva forte com raios e ventos"
          },
          "metadata": {}
        },
        {
          "output_type": "stream",
          "name": "stdout",
          "text": [
            "------------------------\n"
          ]
        },
        {
          "output_type": "display_data",
          "data": {
            "text/plain": [
              "<IPython.core.display.Markdown object>"
            ],
            "text/markdown": "> **model**: Entendo que você esteja ansioso por causa da forte chuva com raios e ventos. Aqui estão algumas dicas para ajudá-lo a se manter seguro e reduzir sua ansiedade:\n> \n> * **Esteja atento aos avisos e previsões meteorológicas:** Monitore as notícias, sites de previsão do tempo e canais de mídia social para obter informações atualizadas sobre a tempestade.\n> * **Procure abrigo em um local seguro:** Em caso de tempestade com raios, procure abrigo em um prédio fechado, como sua casa, local de trabalho ou shopping center. Evite ficar ao ar livre, especialmente em áreas abertas, como campos ou praias.\n> * **Desligue aparelhos eletrônicos:** Desligue computadores, TVs e outros aparelhos eletrônicos para evitar danos causados por raios.\n> * **Evite o contato com água:** Não tome banho, lave a louça ou use equipamentos elétricos durante uma tempestade com raios. A água pode conduzir eletricidade.\n> * **Fique longe de janelas e portas:** Mantenha-se afastado de janelas e portas durante uma tempestade com raios, pois elas podem atrair raios.\n> * **Se estiver ao ar livre, procure abrigo imediatamente:** Se você for pego ao ar livre durante uma tempestade com raios, procure abrigo em um prédio fechado ou em um carro com capota rígida. Se isso não for possível, agache-se em uma área baixa, longe de árvores altas ou objetos metálicos.\n> \n> **Para reduzir a ansiedade:**\n> \n> * **Pratique técnicas de relaxamento:** Pratique técnicas de relaxamento, como respiração profunda ou meditação, para ajudar a acalmar sua mente e reduzir a ansiedade.\n> * **Converse com alguém:** Fale com um amigo, familiar ou terapeuta sobre seus sentimentos. Compartilhar suas preocupações pode ajudar a reduzir a ansiedade.\n> * **Distraia-se:** Envolva-se em atividades que o distraiam da tempestade, como ler, assistir TV ou ouvir música.\n> * **Lembre-se de que a tempestade passará:** Lembre-se de que a tempestade é temporária e que ela passará eventualmente. Concentre-se no presente e tente não se preocupar com o futuro.\n> \n> Se você sentir que sua ansiedade está ficando incontrolável, procure ajuda profissional. Um terapeuta pode ajudá-lo a desenvolver estratégias de enfrentamento saudáveis e fornecer apoio durante esse período estressante."
          },
          "metadata": {}
        },
        {
          "output_type": "stream",
          "name": "stdout",
          "text": [
            "------------------------\n"
          ]
        },
        {
          "output_type": "display_data",
          "data": {
            "text/plain": [
              "<IPython.core.display.Markdown object>"
            ],
            "text/markdown": "> **user**: Tem algum abrigo perto do Novo Campeche, Florianópolis?"
          },
          "metadata": {}
        },
        {
          "output_type": "stream",
          "name": "stdout",
          "text": [
            "------------------------\n"
          ]
        },
        {
          "output_type": "display_data",
          "data": {
            "text/plain": [
              "<IPython.core.display.Markdown object>"
            ],
            "text/markdown": "> **model**: **Abrigos próximos ao Novo Campeche, Florianópolis:**\n> \n> * **Escola Básica Municipal Professora Maria Tomázia Coelho:** Rua Desembargador Pedro Silva, 200 - Campeche\n> * **Escola de Educação Básica Professora Maria Salete Piazza:** Rua Desembargador Pedro Silva, 544 - Campeche\n> * **Escola de Educação Básica Professora Maria Júlia de Aguiar Werlang:** Rua Desembargador Pedro Silva, 499 - Campeche\n> * **Centro Comunitário do Novo Campeche:** Rua Vereador Osmar Cunha, 100 - Novo Campeche\n> * **Igreja Batista do Novo Campeche:** Rua José Ferreira da Silva, 125 - Novo Campeche\n> \n> **Outros locais que podem servir como abrigo em caso de emergência:**\n> \n> * **Ginásio de Esportes do Novo Campeche:** Rua Vereador Osmar Cunha, 100 - Novo Campeche\n> * **Biblioteca Pública do Novo Campeche:** Rua Vereador Osmar Cunha, 100 - Novo Campeche\n> * **Supermercados:** Os supermercados geralmente são estruturas resistentes que podem fornecer abrigo temporário.\n> \n> **Recomendações:**\n> \n> * Entre em contato com os abrigos listados acima para confirmar se eles estão abertos e disponíveis como abrigos durante a tempestade.\n> * Chegue ao abrigo o mais cedo possível, pois o espaço pode ser limitado.\n> * Traga suprimentos essenciais, como água, alimentos não perecíveis, remédios e documentos importantes.\n> * Siga as instruções das autoridades locais e dos responsáveis pelo abrigo.\n> \n> **Observação:** Esta lista pode não estar completa e a disponibilidade dos abrigos pode variar dependendo da situação de emergência. É sempre recomendável verificar com as autoridades locais para obter as informações mais atualizadas."
          },
          "metadata": {}
        },
        {
          "output_type": "stream",
          "name": "stdout",
          "text": [
            "------------------------\n"
          ]
        }
      ]
    }
  ]
}